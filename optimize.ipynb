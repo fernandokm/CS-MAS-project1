{
 "cells": [
  {
   "cell_type": "code",
   "execution_count": 1,
   "metadata": {},
   "outputs": [],
   "source": [
    "import optimize_utils\n",
    "import optuna"
   ]
  },
  {
   "cell_type": "code",
   "execution_count": 2,
   "metadata": {},
   "outputs": [],
   "source": [
    "# define start point\n",
    "initial_params = {\n",
    "    \"height\": 20,\n",
    "    \"width\": 20,\n",
    "    \"initial_sheep\": 54,\n",
    "    \"initial_wolves\": 22,\n",
    "    \"sheep_reproduce\": 0.1,\n",
    "    \"wolf_reproduce\": 0.05,\n",
    "    \"wolf_gain_from_food\": 20,\n",
    "    \"grass\": True,\n",
    "    \"grass_regrowth_time\": 15,\n",
    "    \"sheep_gain_from_food\": 4,\n",
    "    \"moore\": True,\n",
    "    }"
   ]
  },
  {
   "cell_type": "code",
   "execution_count": 3,
   "metadata": {},
   "outputs": [],
   "source": [
    "# define ranges to each variable to be optimized\n",
    "trial_ranges = {\n",
    "    \"height\": 20,\n",
    "    \"width\": 20,\n",
    "    \"initial_sheep\": [0, 400],\n",
    "    \"initial_wolves\": [0, 400],\n",
    "    \"sheep_reproduce\": [0, 1],\n",
    "    \"wolf_reproduce\": [0, 1],\n",
    "    \"wolf_gain_from_food\": [1, 50],\n",
    "    \"grass_regrowth_time\": [1, 50],\n",
    "    \"sheep_gain_from_food\": [1, 50],\n",
    "    \"grass\": [False, True],\n",
    "    \"moore\": [False, True],\n",
    "    }"
   ]
  },
  {
   "cell_type": "code",
   "execution_count": null,
   "metadata": {},
   "outputs": [],
   "source": [
    "study = optuna.create_study(\n",
    "    direction=\"maximize\",\n",
    "    sampler=optuna.samplers.TPESampler(multivariate=True),\n",
    "    pruner=optuna.pruners.HyperbandPruner(),\n",
    ")\n",
    "study.enqueue_trial(initial_params)"
   ]
  },
  {
   "cell_type": "code",
   "execution_count": null,
   "metadata": {},
   "outputs": [],
   "source": [
    "study.optimize(lambda trial : optimize_utils.objective(trial, trial_ranges), n_trials=200, n_jobs=-1)"
   ]
  },
  {
   "cell_type": "code",
   "execution_count": null,
   "metadata": {},
   "outputs": [],
   "source": [
    "print(study.best_params)"
   ]
  }
 ],
 "metadata": {
  "kernelspec": {
   "display_name": "Python 3.10.9 64-bit",
   "language": "python",
   "name": "python3"
  },
  "language_info": {
   "codemirror_mode": {
    "name": "ipython",
    "version": 3
   },
   "file_extension": ".py",
   "mimetype": "text/x-python",
   "name": "python",
   "nbconvert_exporter": "python",
   "pygments_lexer": "ipython3",
   "version": "3.10.9"
  },
  "orig_nbformat": 4,
  "vscode": {
   "interpreter": {
    "hash": "e7370f93d1d0cde622a1f8e1c04877d8463912d04d973331ad4851f04de6915a"
   }
  }
 },
 "nbformat": 4,
 "nbformat_minor": 2
}
